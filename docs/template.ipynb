{
 "cells": [
  {
   "cell_type": "markdown",
   "id": "2411ee6d-e7f0-4560-ab40-e04e8c7e5089",
   "metadata": {},
   "source": [
    "# Template for the term paper\n",
    "<!-- Please replace the above title with your project title. -->\n",
    "\n",
    "**Your Name**\n",
    "\n",
    "(Optional: Add a Binder bagde here linking to the executable content. See [mybinder.org](https://mybinder.org/) for more information.)\n",
    "\n",
    "## Abstract\n",
    "\n",
    "Mandatory. This is your abstract text, up to 200 words.\n",
    "\n",
    "## Open science highlights\n",
    "\n",
    "- point 1 (mandatory)\n",
    "- point 2 (mandatory)\n",
    "\n",
    "## Introduction\n",
    "\n",
    "Mandatory. The main text starts from here; this section and all sections below (excluding references and all figure/table captions) will be included for word count, which ideally should be less than 3000 words. That said, there is no serious limit of how many words you should use. This term paper will be solely graded based on its content (esp. open science components), structure, and clarity.\n",
    "\n",
    "## Other sections\n",
    "\n",
    "Such as Data, Methods, Results, Discussion, or other adequate section titles for your project. These are all optional.\n",
    "\n",
    "### Subsection level 1\n",
    "\n",
    "#### Subsection level 2\n",
    "\n",
    "Feel free to use subsections and sub-subsections.\n",
    "\n",
    "#### Figures\n",
    "\n",
    "All figures must have a caption. See [this link](https://jupyterbook.org/en/stable/content/figures.html#figures) for how to set up a caption using Jupyter Book.\n",
    "\n",
    "#### Code sections and output\n",
    "\n",
    "Feel free to include any code sections and output (static or interactive) as long as they are not too long to impede reading. See [this link](https://jupyterbook.org/en/stable/content/executable/index.html) for some tutorials.\n",
    "\n",
    "## Conclusion\n",
    "\n",
    "Mandatory: a short, one-paragraph summary concluding and wrapping up the project. \n",
    "\n",
    "## References\n",
    "\n",
    "If any. I recommend using `bibtex` to manage and cite literature; see [this tutorial](https://jupyterbook.org/en/stable/tutorials/references.html#create-a-citation) for necessary steps."
   ]
  },
  {
   "cell_type": "code",
   "execution_count": null,
   "id": "fd8cadd0-e056-46b4-8bde-3845dc9bc0e9",
   "metadata": {},
   "outputs": [],
   "source": []
  }
 ],
 "metadata": {
  "kernelspec": {
   "display_name": "Python 3 (ipykernel)",
   "language": "python",
   "name": "python3"
  },
  "language_info": {
   "codemirror_mode": {
    "name": "ipython",
    "version": 3
   },
   "file_extension": ".py",
   "mimetype": "text/x-python",
   "name": "python",
   "nbconvert_exporter": "python",
   "pygments_lexer": "ipython3",
   "version": "3.10.8"
  }
 },
 "nbformat": 4,
 "nbformat_minor": 5
}
