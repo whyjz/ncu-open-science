{
 "cells": [
  {
   "cell_type": "markdown",
   "id": "abe39c84-6813-445a-b9f0-3ef184959e4d",
   "metadata": {},
   "source": [
    "# Explorative data visualization\n",
    "\n",
    "**2023.05.02, 2023.05.07**\n",
    "\n",
    "This tutorial provides steps for explorative data visualization -- some tricks for readers to explore data presented here with minimum confusion."
   ]
  },
  {
   "cell_type": "code",
   "execution_count": null,
   "id": "7f401870-9547-4734-a827-d44706e56d41",
   "metadata": {},
   "outputs": [],
   "source": []
  }
 ],
 "metadata": {
  "kernelspec": {
   "display_name": "Python 3 (ipykernel)",
   "language": "python",
   "name": "python3"
  },
  "language_info": {
   "codemirror_mode": {
    "name": "ipython",
    "version": 3
   },
   "file_extension": ".py",
   "mimetype": "text/x-python",
   "name": "python",
   "nbconvert_exporter": "python",
   "pygments_lexer": "ipython3",
   "version": "3.10.8"
  }
 },
 "nbformat": 4,
 "nbformat_minor": 5
}
