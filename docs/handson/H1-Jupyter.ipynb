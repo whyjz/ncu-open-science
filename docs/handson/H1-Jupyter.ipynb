{
 "cells": [
  {
   "cell_type": "markdown",
   "id": "a72c56c8-66f8-4e93-b823-1f4b3dcb011e",
   "metadata": {},
   "source": [
    "# Our working environment\n",
    "\n",
    "## 1 | [Jupyter](https://jupyter.org/)\n",
    "\n",
    "![Jupyter](https://jupyter.org/assets/logos/rectanglelogo-greytext-orangebody-greymoons.svg)\n",
    "\n",
    "**Project Jupyter** develops and provides various tools, standards, and services for a range of purposes. The word \"Jupyter\" originates from combining three popular programming languages in data science: Julia, Python, and R, but now it has become a symbol of the community who are engaged with each other using Jupyter tools.\n",
    "\n",
    "This course will introduce many of Project Jupyter's products, which are great ways to explore open science practices.\n",
    "\n",
    "### 🛠️ Try Jupyter\n",
    "\n",
    "Go to the [Project Jupyter landing page](https://jupyter.org/), scroll down to the **JupyterLab** project, and hit \"Try it in your browser.\" Then hit \"JupyterLab\" in the Applications Section. You will be entering a web server using JupyterLab interface as an entry point. \n",
    "\n",
    "🚩 **Task:** Try to execute the Python cell in `Intro.ipynb` and reproduce the figure with many yellow-green-blueish dots!\n",
    "\n",
    "🚩 **Task:** Navigate to `Lorenz.ipynb` and open it. Execute several cells until you see an interactive widget showing the results of a Lorenz system.\n",
    "\n",
    "❓ **Question:** Can you adjust the parameters so that the system looks like this?\n",
    "\n",
    "![Lorenz system](figs/lorenz.png)\n",
    "\n",
    "\n",
    "## 2 | [Callysto](https://callysto.ca/)\n",
    "\n",
    "![Callysto](https://callysto.ca/media/logo-transparent-background_hu7e18fb676e74a5d007052d00f645e01e_31947_0x36_resize_q95_h2_lanczos_3.webp)\n",
    "\n",
    "As a non-profit program aiming to improve teaching data science in Canada, Callysto provides lots of materials and learning modules for K-12 classrooms. Callysto also hosts the Callysto hub, a free online Jupyter server (**JupyterHub**) pre-loaded with these modules. \n",
    "\n",
    "We will be using Callysto Hub throughout the course as a platform for the hands-on session. This is not a requirement, though, if you are willing and able to install JupyterLab or Jupyter Notebook on your local machine.\n",
    "\n",
    "### 🛠️ Try Callysto\n",
    "\n",
    "Go to [Callysto Hub landing page](https://hub.callysto.ca/) and sign in. You'll need a Google or Microsoft account for this.\n",
    "\n",
    "Once you are logged in and activate Jupyter, you can see a **Jupyter Notebook** landing page with a URL as `https://hub-xx.callysto.ca/jupyter/user/xxx..../tree`. This is Jupyter Notebook's **tree view** interface. If you double-click `getting-started.ipynb`, a **Notebook view** browser page will pop up showing the content of the notebook.\n",
    "\n",
    "🚩 **Task:** While you are on the tree view page, switch to the JupyterLab interface by changing the URL to `https://hub-xx.callysto.ca/jupyter/user/xxx..../lab` (i.e., by replacing `tree` with `lab`). Now you should be able to see a similar interface we explored during the previous task. In fact, the JupyterLab interface is like Jupyter Notebook 2.0 for some people.\n",
    "\n",
    "### 🛠️ Callysto's learning modules\n",
    "\n",
    "Now go back to [Callysto's project page](https://callysto.ca/), scroll down, and hit the \"Browse learning modules\" button. Here you can find lots of resources for K-12 teachers. Locate the \"Climate Change\" module and hit \"Click\". Now the relevant content has been imported into your account space in the Callysto Hub. You should be able to view the content `climate-change.ipynb` now.\n",
    "\n",
    "🚩 **Task:** Execute the cells to visually explore Evidence 1 & 2 for the rapid climate change.\n",
    "\n",
    "❓ **Question**: Where is `climate-change.ipynb` located relative to your home directory?\n",
    "\n",
    "<!-- - The demo examples will be put on Github, and here are an example for downloading (clone) the Github content to your Callysto space: \n",
    "\n",
    "`git clone https://github.com/pangeo-data/jupyter-earth.git`\n",
    "Try this command here!\n",
    "!git clone https://github.com/pangeo-data/jupyter-earth.git -->"
   ]
  },
  {
   "cell_type": "markdown",
   "id": "1dfe0046-e474-4037-b290-67df205d22aa",
   "metadata": {},
   "source": [
    "## 3 | More resources\n",
    "\n",
    "Here are some links to help you get familiar with JupyterLab, Linux (on which JupyterLab is built), and BASH.\n",
    "\n",
    "- [JupyterLab documentation](https://jupyterlab.readthedocs.io/en/latest/)\n",
    "- [鳥哥私房菜 (中文)](https://linux.vbird.org/linux_basic/centos7/0320bash.php)\n",
    "- [Ryans Tutorials (English)](https://ryanstutorials.net/bash-scripting-tutorial/)\n"
   ]
  },
  {
   "cell_type": "code",
   "execution_count": null,
   "id": "8006c402-5421-47e7-b0a0-5e9f3e77a3e8",
   "metadata": {},
   "outputs": [],
   "source": []
  },
  {
   "cell_type": "code",
   "execution_count": null,
   "id": "6bd9a157-760b-4cae-b7bf-65ff2067d45c",
   "metadata": {},
   "outputs": [],
   "source": []
  }
 ],
 "metadata": {
  "kernelspec": {
   "display_name": "Python 3 (ipykernel)",
   "language": "python",
   "name": "python3"
  },
  "language_info": {
   "codemirror_mode": {
    "name": "ipython",
    "version": 3
   },
   "file_extension": ".py",
   "mimetype": "text/x-python",
   "name": "python",
   "nbconvert_exporter": "python",
   "pygments_lexer": "ipython3",
   "version": "3.10.12"
  }
 },
 "nbformat": 4,
 "nbformat_minor": 5
}
