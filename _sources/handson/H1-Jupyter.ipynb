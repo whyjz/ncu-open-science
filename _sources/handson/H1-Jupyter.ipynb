{
 "cells": [
  {
   "cell_type": "markdown",
   "id": "a72c56c8-66f8-4e93-b823-1f4b3dcb011e",
   "metadata": {},
   "source": [
    "# Our working environment: Jupyter\n",
    "\n",
    "**2023.02.21**\n",
    "\n",
    "![Jupyter](https://upload.wikimedia.org/wikipedia/commons/thumb/3/38/Jupyter_logo.svg/207px-Jupyter_logo.svg.png)\n",
    "By Project Jupyter, [BSD-3-Clause license](https://github.com/jupyter/jupyter.github.io/blob/master/LICENSE)\n",
    "\n",
    "**Jupyter** provides environments and tools designed for performing data science on the cloud. [Project Jupyter landing page](https://jupyter.org/)\n",
    "\n",
    "## [Callysto](https://www.callysto.ca/)\n",
    "\n",
    "![Callysto](https://www.callysto.ca/wp-content/uploads/2020/10/Callysto-Logo_Hor_Colour-768x242.png)\n",
    "By Callysto, [CC-BY 4.0](http://creativecommons.org/licenses/by/4.0/)\n",
    "\n",
    "As a non-profit program aiming for improving teaching data science in Canada, Callysto hosts the Callysto hub, a free online tool with the Jupyter-based interface and computational resources for everyone.\n",
    "\n",
    "You'll need a Google or Microsoft account to sign into the Callysto Hub.\n",
    "\n",
    "[Callysto Hub landing page](https://hub.callysto.ca/)\n",
    "\n",
    "## Once you log in...\n",
    "\n",
    "Here are things you can do:\n",
    "\n",
    "### Familarize yourself with Jupyter Notebook / JuyterLab\n",
    "\n",
    "Your first hub landing place should be `https://hub-xx.callysto.ca/jupyter/user/xxx..../tree`, a traditional **Notebook tree view**.\n",
    "\n",
    "You can switch to a more advance JupyterLab interface by changing the URL to `https://hub-xx.callysto.ca/jupyter/user/xxx..../lab`. This is the JupyterLab interface (which is like Jupyter Notebook 2.0 for some people).\n",
    "\n",
    "### Get the learning resources from Callysto\n",
    "\n",
    "- Check out the [Callysto starter kit](https://www.callysto.ca/starter-kit/)!\n",
    "\n",
    "- Find the `getting-started.ipynb` in the tree view or in the file browser panel. Open it and follow (run) the instruction there.\n",
    "\n",
    "- There's a lot of learning modules and other resources on Callysto for you to try Jupyter itself and learn data science!\n",
    "\n",
    "### Get resources on the Hub\n",
    "\n",
    "- You can download/import any files on the Callysto Hub, including additional learning resources. \n",
    "\n",
    "- The demo examples will be put on Github, and here are an example for downloading (clone) the Github content to your Callysto space: \n",
    "\n",
    "`git clone https://github.com/pangeo-data/jupyter-earth.git`\n",
    "\n",
    "Try this command here!"
   ]
  },
  {
   "cell_type": "code",
   "execution_count": null,
   "id": "2d87c372-99c4-49c7-af89-c11c261d5ce5",
   "metadata": {},
   "outputs": [],
   "source": [
    "!git clone https://github.com/pangeo-data/jupyter-earth.git"
   ]
  },
  {
   "cell_type": "markdown",
   "id": "1dfe0046-e474-4037-b290-67df205d22aa",
   "metadata": {},
   "source": [
    "This Github repository contains raw files presented at [here](https://jupytearth.org/).\n",
    "\n",
    "## More resources\n",
    "\n",
    "- Shell (bash):\n",
    "  - [鳥哥的學習私房手冊 (中文)](https://linux.vbird.org/linux_basic/centos7/0320bash.php)\n",
    "  - [Ryans Tutorials (English)](https://ryanstutorials.net/bash-scripting-tutorial/)\n",
    "  \n",
    "- Git:\n",
    "  - [連猴子都能懂的 Git 入門指南 (中文)](https://backlog.com/git-tutorial/tw/)\n",
    "  - [Git tutorial: An essential guide to a powerful integration (English)](https://nulab.com/learn/software-development/git-tutorial/git-basics/)"
   ]
  },
  {
   "cell_type": "code",
   "execution_count": null,
   "id": "8006c402-5421-47e7-b0a0-5e9f3e77a3e8",
   "metadata": {},
   "outputs": [],
   "source": []
  }
 ],
 "metadata": {
  "kernelspec": {
   "display_name": "Python 3 (ipykernel)",
   "language": "python",
   "name": "python3"
  },
  "language_info": {
   "codemirror_mode": {
    "name": "ipython",
    "version": 3
   },
   "file_extension": ".py",
   "mimetype": "text/x-python",
   "name": "python",
   "nbconvert_exporter": "python",
   "pygments_lexer": "ipython3",
   "version": "3.10.8"
  }
 },
 "nbformat": 4,
 "nbformat_minor": 5
}
