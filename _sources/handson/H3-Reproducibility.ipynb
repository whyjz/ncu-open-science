{
 "cells": [
  {
   "cell_type": "markdown",
   "id": "7ed951fe-167b-4e41-8beb-e5d3142b2d50",
   "metadata": {},
   "source": [
    "# Achieving 100% reproducibility\n",
    "\n",
    "**2023.03.21, 2023.03.28**\n",
    "\n",
    "In this handsd-on session we will continue to use the test repository you just created and make it 100% reproducible with the help of [mybinder.org](https://mybinder.org/).\n",
    "\n",
    "## Goals\n",
    "\n",
    "1. Add some executable code pieces to your test repository, commit those changes, and push the change to Github\n",
    "2. Binderize the repository (i.e., making it runnable on the cloud)\n",
    "\n",
    "## [MyBinder.org](https://mybinder.org/)\n",
    "\n",
    "![myBinder](https://mybinder.org/static/logo.svg)\n",
    "By Project Jupyter Contributors, [BSD-3-Clause license](https://github.com/jupyterhub/binderhub/blob/main/LICENSE)\n",
    "\n",
    "[MyBinder.org](https://mybinder.org/) is an online service that allows users to share their code with its computing environment. It reads the content and the information specifying the computing environment from a supported repository (e.g., GitHub), and then MyBinder initializes a server with the necessary pacakges installed. Finally, users can access the fully execuable *in-situ* content through the Jupyter-based GUI.\n",
    "\n",
    "The technology behind MyBinder.org is called the **BinderHub**. You can find more details about it [here](https://mybinder.readthedocs.io/en/latest/introduction.html). Using the same technology, it is possible to create many independent online services that are similar to MyBinder.org.\n",
    "\n",
    "BinderHub (e.g., MyBinder.org) itself focuses on building a [Docker image](https://jfrog.com/knowledge-base/a-beginners-guide-to-understanding-and-building-docker-images/) from a repository. BinderHub relies on JupyterHub (e.g., Callysto Hub) to create the pod instance that serves the Docker image. \n",
    "\n",
    "![BinderHub workflow](https://binderhub.readthedocs.io/en/latest/_images/architecture.png) \n",
    "By Project Jupyter Contributors, [BSD-3-Clause license](https://github.com/jupyterhub/binderhub/blob/main/LICENSE)\n",
    "\n",
    "## Goal 1 procedure\n",
    "\n",
    "[Callysto Hub portal](https://hub.callysto.ca/)\n",
    "\n",
    "Go to the test repositry you created in the [previous session](H2-FAIRdata). Create a new file named `scipy_test.py` with the following content:"
   ]
  },
  {
   "cell_type": "code",
   "execution_count": null,
   "id": "18fa678c-a82d-4d69-ab5c-3b0ba88a51c4",
   "metadata": {},
   "outputs": [],
   "source": [
    "#### This sample code was auto-generated using Bing's ChatGPT AI (GPT-4).\n",
    "\n",
    "import numpy as np\n",
    "from scipy import optimize\n",
    "\n",
    "# Define the function that we want to fit\n",
    "def test_func(x, a, b):\n",
    "    return a * np.sin(b * x)\n",
    "\n",
    "# Generate some data with noise to fit\n",
    "x_data = np.linspace(0, 4 * np.pi, 100)\n",
    "y_data = 3.0 * np.sin(1.5 * x_data) + 0.5 * np.random.normal(size=100)\n",
    "\n",
    "# Fit the data with the function\n",
    "params, params_covariance = optimize.curve_fit(test_func, x_data, y_data, p0=[2, 2])\n",
    "\n",
    "# Print the results\n",
    "print(params)"
   ]
  },
  {
   "cell_type": "markdown",
   "id": "b1d018c0-b748-4639-abb0-583e31b40e07",
   "metadata": {},
   "source": [
    "You can try to execute the file using the terminal by typing `python scipt_test.py` and see how it goes. When this script runs, Python will try to load the numpy and scipy libraries, which are already installed on Callysto. You should see a successful re result printed on the screen.\n",
    "\n",
    "Now create a new Jupyter Notebook file named `ipyleaflet.ipynb` with the following content:"
   ]
  },
  {
   "cell_type": "code",
   "execution_count": null,
   "id": "53972e62-873c-437e-9f3b-9a94fb7f39e5",
   "metadata": {},
   "outputs": [],
   "source": [
    "#### This sample code was modified from ipyleaflet's demo examples.\n",
    "from ipyleaflet import Map, basemaps, basemap_to_tiles, Marker\n",
    "\n",
    "center = (24.9677, 121.1870)\n",
    "\n",
    "m = Map(\n",
    "    basemap=basemap_to_tiles(basemaps.OpenStreetMap.Mapnik),\n",
    "    center=center,\n",
    "    zoom=15\n",
    "    )\n",
    "marker = Marker(location=center, draggable=False)\n",
    "m.add_layer(marker);\n",
    "m"
   ]
  },
  {
   "cell_type": "markdown",
   "id": "33878508-4c11-4be4-8019-d98cf6607440",
   "metadata": {},
   "source": [
    "You can try to run this Notebook, but it will most likely report an error because the `ipyleaflet` package is not pre-installed on Callysto. We have to install it manually, and here's one of the many methods:"
   ]
  },
  {
   "cell_type": "code",
   "execution_count": null,
   "id": "3f502f74-55bb-498b-a1ed-ac2e7d4c12d8",
   "metadata": {},
   "outputs": [],
   "source": [
    "!pip install ipyleaflet"
   ]
  },
  {
   "cell_type": "markdown",
   "id": "18c1b46e-db8c-4879-b85c-c2de2b2ad147",
   "metadata": {},
   "source": [
    "Now you can restart the kernel and run the Notebook again to see the correct output. (*Note: you will need to install ipyleaflet every time when you start a Callysto Hub session.*)\n",
    "\n",
    "When you are done adding these files, you can commit the changes and push them to Github.\n",
    "\n",
    "## Goal 2 procedure \n",
    "\n",
    "To binderize the repository, you need to add another file called `environment.yml` with the following content:"
   ]
  },
  {
   "cell_type": "markdown",
   "id": "3cbbcc22-c8de-4dcf-9b12-df302e04d68b",
   "metadata": {},
   "source": [
    "```\n",
    "name: binder-test\n",
    "\n",
    "channels:\n",
    "  - conda-forge\n",
    "  - defaults\n",
    "dependencies:\n",
    "  - numpy\n",
    "  - scipy\n",
    "  - ipyleaflet\n",
    "```"
   ]
  },
  {
   "cell_type": "markdown",
   "id": "ecd793de-adcd-484f-a9c1-354972d23916",
   "metadata": {},
   "source": [
    "This file follows the [**YAML**](https://en.wikipedia.org/wiki/YAML) format and tells **conda** (one of the package managers Binder supports) what packages to be installed. Based on the code we added above, we will need `numpy`, `scipy`, and `ipyleaflet`. We will also need Python to execute the code, but it is optional to list Python here because it will be installed as a dependency of all three packages.\n",
    "\n",
    "Commit the change and push them to Github. Now you can go to [MyBinder.org](https://mybinder.org/) and enter the repository URL to initialize the server with all the reproducible content from your repository:\n",
    "\n",
    "![Binder](figs/Binder-scr1.png)\n",
    "\n",
    "MyBinder will take some time building the Docker image based on `environment.yml` and the other files in the repository. When it is finished, you should be able to see a JupyterLab (or Jupyter Notebook tree view) GUI with all the content (specifically `scipy_test.py` and `ipyleaflet.ipynb`) ready to be executed! \n",
    "\n",
    "## More resources\n",
    "\n",
    "If you want to learn Python, there are tons of websites with a cloud executable environment so that you can code on your browser. In addition to [Callysto's learning modules](https://www.callysto.ca/learning-modules/), some of the executable-in-situ Python tutorials (free+paid plans) include but not limited to [Brilliant](https://brilliant.org/), [Codecademy](https://www.codecademy.com/), and [DataCamp](https://www.datacamp.com/). You might also want to check out the unfinished *Learning Python with Jupyter* book at https://learnpythonwithjupyter.com/ with downloadable Jupyter Notebook exercises. (*Disclaimer: I have no conflict of interest with any of the companies/organizations mentioned here.*)"
   ]
  },
  {
   "cell_type": "code",
   "execution_count": null,
   "id": "7b47cb73-ea7e-4353-9720-f78a4c340d61",
   "metadata": {},
   "outputs": [],
   "source": []
  }
 ],
 "metadata": {
  "kernelspec": {
   "display_name": "Python 3 (ipykernel)",
   "language": "python",
   "name": "python3"
  },
  "language_info": {
   "codemirror_mode": {
    "name": "ipython",
    "version": 3
   },
   "file_extension": ".py",
   "mimetype": "text/x-python",
   "name": "python",
   "nbconvert_exporter": "python",
   "pygments_lexer": "ipython3",
   "version": "3.10.8"
  }
 },
 "nbformat": 4,
 "nbformat_minor": 5
}
